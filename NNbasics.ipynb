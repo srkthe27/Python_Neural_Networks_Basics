{
 "cells": [
  {
   "cell_type": "code",
   "execution_count": 1,
   "metadata": {},
   "outputs": [],
   "source": [
    "import numpy as np\n",
    "import tensorflow as tf\n",
    "from tensorflow.keras.layers import Dense"
   ]
  },
  {
   "cell_type": "code",
   "execution_count": 2,
   "metadata": {},
   "outputs": [
    {
     "name": "stdout",
     "output_type": "stream",
     "text": [
      "X shape before reshaping =  (2, 3)\n",
      "Y shape =  (3, 3)\n",
      "X = \n",
      " [[1 2 3]\n",
      " [4 5 6]]\n",
      "y = \n",
      " [[1 2 3]\n",
      " [4 5 6]\n",
      " [7 8 9]]\n",
      "X column  3\n",
      "X shape bafter reshaping =  [1 2 3 4 5 6]\n",
      "(3, 2)\n"
     ]
    }
   ],
   "source": [
    "x = np.array([[1,2,3],[4,5,6]])\n",
    "y = np.array([[1,2,3],[4,5,6],[7,8,9]])\n",
    "b = x.reshape(-1,2).shape\n",
    "print(\"X shape before reshaping = \",x.shape)\n",
    "print(\"Y shape = \",y.shape)\n",
    "print(\"X = \\n\",x)\n",
    "print(\"y = \\n\",y)\n",
    "print(\"X column \",x.shape[1])\n",
    "print(\"X shape bafter reshaping = \",x.reshape(-1))\n",
    "print(b)\n",
    "\n",
    "x = tf.convert_to_tensor([[1, 2, 3], [4, 5, 6]], dtype=tf.float32)\n",
    "y = tf.convert_to_tensor([[1, 2, 3], [4, 5, 6], [7, 8, 9]], dtype=tf.float32)\n",
    "#X&Y are converted to tensors because tf only accepts tensors but not numpy arrays\n"
   ]
  },
  {
   "cell_type": "markdown",
   "metadata": {},
   "source": [
    "for i in range(len(y)):\n",
    "    for j in range(len(y[i])):\n",
    "        print(y[i][j])"
   ]
  },
  {
   "cell_type": "code",
   "execution_count": 3,
   "metadata": {},
   "outputs": [
    {
     "name": "stderr",
     "output_type": "stream",
     "text": [
      "c:\\Users\\SRK\\anaconda3\\Lib\\site-packages\\keras\\src\\layers\\core\\dense.py:87: UserWarning: Do not pass an `input_shape`/`input_dim` argument to a layer. When using Sequential models, prefer using an `Input(shape)` object as the first layer in the model instead.\n",
      "  super().__init__(activity_regularizer=activity_regularizer, **kwargs)\n"
     ]
    },
    {
     "name": "stdout",
     "output_type": "stream",
     "text": [
      "2\n"
     ]
    },
    {
     "ename": "NameError",
     "evalue": "name 'a2' is not defined",
     "output_type": "error",
     "traceback": [
      "\u001b[1;31m---------------------------------------------------------------------------\u001b[0m",
      "\u001b[1;31mNameError\u001b[0m                                 Traceback (most recent call last)",
      "Cell \u001b[1;32mIn[3], line 30\u001b[0m\n\u001b[0;32m     28\u001b[0m \u001b[38;5;28mprint\u001b[39m(\u001b[38;5;28mlen\u001b[39m(a21))\n\u001b[0;32m     29\u001b[0m \u001b[38;5;28;01mfor\u001b[39;00m i \u001b[38;5;129;01min\u001b[39;00m \u001b[38;5;28mrange\u001b[39m(\u001b[38;5;28mlen\u001b[39m(a21)):\n\u001b[1;32m---> 30\u001b[0m     \u001b[38;5;28mprint\u001b[39m(\u001b[43ma2\u001b[49m[i])\n\u001b[0;32m     31\u001b[0m     \u001b[38;5;28;01mif\u001b[39;00m a21[i]\u001b[38;5;241m>\u001b[39m\u001b[38;5;241m0.5\u001b[39m:\n\u001b[0;32m     32\u001b[0m         \u001b[38;5;28mprint\u001b[39m(\u001b[38;5;124m\"\u001b[39m\u001b[38;5;124m1\u001b[39m\u001b[38;5;124m\"\u001b[39m)\n",
      "\u001b[1;31mNameError\u001b[0m: name 'a2' is not defined"
     ]
    }
   ],
   "source": [
    "layer_11 = Dense(3,activation='sigmoid',input_shape=(3,))\n",
    "a11=layer_11(x)\n",
    "#Dense represents the fully connected layer\n",
    "#3 represents the no.of neurons in the 1st hidden layer\n",
    "#input_shape=(2,3) represents the shape of my input vector\n",
    "\n",
    "#x0 represent the input layer\n",
    "#w11 represent the weight of the 1st neuron in the 1st hidden layer\n",
    "#w21 represent the weight of the 2nd neuron in the 1st hidden layer\n",
    "#w31 represent the weight of the 3rd neuron in the 1st hidden layer\n",
    "#a1 is the output of the 1st hidden layer\n",
    "#a11=[(w1.x0+b1)+(w2.x0+b1)+(w3.x0+b1)]\n",
    "\n",
    "layer_21 = Dense(1,activation='sigmoid')\n",
    "a21=layer_21(a11)\n",
    "\n",
    "#w12 represent the weight of the first neuron in the 2nd hidden layer\n",
    "#a1 is given as the input to the 2nd hidden layer\n",
    "#a2=[(w1.a1+b1)]\n",
    "\n",
    "#The above code is equivalent to the following diagram\n",
    "\n",
    "#                                O \n",
    "#           X0            ------>O          ------> O\n",
    "#                                O \n",
    "#         input vector        provides A1         provides A2\n",
    "\n",
    "print(len(a21))\n",
    "for i in range(len(a21)):\n",
    "    print(a2[i])\n",
    "    if a21[i]>0.5:\n",
    "        print(\"1\")\n",
    "    else:\n",
    "        print(\"0\")"
   ]
  },
  {
   "cell_type": "code",
   "execution_count": 23,
   "metadata": {},
   "outputs": [
    {
     "name": "stdout",
     "output_type": "stream",
     "text": [
      "3\n",
      "tf.Tensor([0.36054084], shape=(1,), dtype=float32)\n",
      "0\n",
      "tf.Tensor([0.37331542], shape=(1,), dtype=float32)\n",
      "0\n",
      "tf.Tensor([0.37548113], shape=(1,), dtype=float32)\n",
      "0\n"
     ]
    }
   ],
   "source": [
    "layer_12 = Dense(5,activation='sigmoid',input_shape=(3,))\n",
    "a12=layer_12(y)\n",
    "\n",
    "#5 represents the no.pf neurons in the 1st hidden layer\n",
    "#input_shape=(3,3) represents the shape of my input vector(y)\n",
    "\n",
    "#Y0 represent the input layer\n",
    "\n",
    "#W11 represent the weight of the 1st neuron in the 1st hidden layer\n",
    "#W21 represent the weight of the 2nd neuron in the 1st hidden layer\n",
    "#W31 represent the weight of the 3rd neuron in the 1st hidden layer\n",
    "#W41 represent the weight of the 4th neuron in the 1st hidden layer\n",
    "#W51 represent the weight of the 5th neuron in the 1st hidden layer\n",
    "\n",
    "#a12 is the output of the 1st hidden layer\n",
    "#a12=[(w1.y0+b1)+(w2.y0+b1)+(w3.y0+b1)+(w4.y0+b1)+(w5.y0+b1)]\n",
    "\n",
    "layer_22 = Dense(3,activation='sigmoid')\n",
    "a22=layer_22(a12)\n",
    "\n",
    "#w12 represent the weight of the 1st neuron in the 2nd hidden layer\n",
    "#W22 represent the weight of the 2nd neuron in the 2nd hidden layer\n",
    "#W32 represent the weight of the 3rd neuron in the 3rd hidden layer\n",
    "#a12 is given as the input to the 2nd hidden layer\n",
    "#a22=[(w1.a12+b1)+(w2.a12+b1)+(w3.a12+b1)]\n",
    "\n",
    "layer_32 = Dense(1,activation='sigmoid')\n",
    "a32=layer_32(a22)\n",
    "\n",
    "#w13 represent the weight of the 1st neuron in the 3rd hidden layer\n",
    "#w23 represent the weight of the 2nd neuron in the 3rd hidden layer\n",
    "#w33 represent the weight of the 3rd neuron in the 3rd hidden layer\n",
    "#a32 is the output of the 3rd hidden layer\n",
    "\n",
    "#The above code is equivalent to the following diagram\n",
    "\n",
    "#                                O \n",
    "#                                O                     O\n",
    "#           Y0            ------>O             ------> O           ------> O\n",
    "#                                O                     O\n",
    "#                                O\n",
    "#         input vector        provides A1         provides A2         provides A3 \n",
    "\n",
    "print(len(a32))\n",
    "for i in range(len(a32)):\n",
    "    print(a32[i])\n",
    "    if a32[i]>0.5:\n",
    "        print(\"1\")\n",
    "    else:\n",
    "        print(\"0\")\n"
   ]
  },
  {
   "cell_type": "code",
   "execution_count": null,
   "metadata": {},
   "outputs": [],
   "source": []
  }
 ],
 "metadata": {
  "kernelspec": {
   "display_name": "base",
   "language": "python",
   "name": "python3"
  },
  "language_info": {
   "codemirror_mode": {
    "name": "ipython",
    "version": 3
   },
   "file_extension": ".py",
   "mimetype": "text/x-python",
   "name": "python",
   "nbconvert_exporter": "python",
   "pygments_lexer": "ipython3",
   "version": "3.12.7"
  }
 },
 "nbformat": 4,
 "nbformat_minor": 2
}
